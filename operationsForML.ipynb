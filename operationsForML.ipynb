{
 "cells": [
  {
   "cell_type": "markdown",
   "id": "6bdcf6c5-27d0-4ed7-8757-62d090926daa",
   "metadata": {
    "tags": []
   },
   "source": [
    "# Operations for machine learning\n",
    "#### John Cronin-McCartney\n",
    "## NumPy\n",
    "Working with Arrays, Matrices"
   ]
  },
  {
   "cell_type": "markdown",
   "id": "ba596ea6-a483-4a30-9b29-b7c0951578c6",
   "metadata": {
    "tags": []
   },
   "source": [
    "### Vectors"
   ]
  },
  {
   "cell_type": "code",
   "execution_count": null,
   "id": "25926104-417e-46e9-b1fa-c0711e80533d",
   "metadata": {},
   "outputs": [
    {
     "name": "stdout",
     "output_type": "stream",
     "text": [
      "This is a basic list in: <class 'numpy.ndarray'>  format. \n",
      "The fundamental datatype used in numpy\n",
      "\n",
      "We can print the array as a vector:  [1 2 3]\n"
     ]
    }
   ],
   "source": [
    "a_list = [1,2,3]\n",
    "\n",
    "import numpy as np\n",
    "\n",
    "a_arr = np.array(a_list)\n",
    "\n",
    "print(\"This is a basic list in:\",type(a_arr),\" format. \\nThis is the fundamental datatype used in numpy\")\n",
    "print(\"\\nWe can print the array as a vector: \", a_arr)"
   ]
  },
  {
   "cell_type": "markdown",
   "id": "27f52da0-7a25-420e-8541-7f1d069940cb",
   "metadata": {},
   "source": [
    "### Matrices"
   ]
  },
  {
   "cell_type": "code",
   "execution_count": null,
   "id": "26519ec2-9363-4258-b1af-b87c9a9fe789",
   "metadata": {},
   "outputs": [
    {
     "name": "stdout",
     "output_type": "stream",
     "text": [
      "This is a matrix list in: <class 'numpy.ndarray'>  format. \n",
      "Matrices are easily handled with various numPy operations\n",
      "\n",
      "We can print the matrix simply: \n",
      " [[1 2 3]\n",
      " [4 5 6]\n",
      " [7 8 9]] \n",
      "--------------\n",
      "NumPy arrays have a set of quickly accessible attributes for matrices:\n",
      "Dimension of matrix: 2\n",
      "Size of the matrix: 9\n",
      "Shape of the matrix: (3, 3)\n",
      "Data type of this matrix: int64\n",
      "\n",
      "\n",
      "Modified Matrix: \n",
      " [[1.1 2.2 3.3]\n",
      " [4.  5.  6. ]\n",
      " [7.  8.  9. ]] \n",
      "--------------\n",
      "Data type of this matrix: float64\n",
      "\n",
      "\n",
      "We can convert tuples to n-dimensional arrays also:\n",
      "By using C = np.array([(1.1,2,3),(4,5,6)])\n",
      "This a Matrix made from tuples, not lists\n",
      " [[1.1 2.  3. ]\n",
      " [4.  5.  6. ]]\n"
     ]
    }
   ],
   "source": [
    "A_mat = [[1,2,3],[4,5,6],[7,8,9]]\n",
    "np_mat = np.array(A_mat)\n",
    "\n",
    "print(\"This is a matrix list in:\",type(np_mat),\" format. \\nMatrices are easily handled with various numPy operations\")\n",
    "print(\"\\nWe can print the matrix simply: \\n\", np_mat,\"\\n--------------\")\n",
    "\n",
    "print(\"NumPy arrays have a set of quickly accessible attributes for matrices:\")\n",
    "# nDim for dimension of np arrays, 1 for vectors, 2 for simple matrices, etc. \n",
    "print(\"Dimension of matrix: \", np_mat.ndim, sep='')\n",
    "\n",
    "# Matrix size gives us the total number of elements in our array/matrix\n",
    "print(\"Size of the matrix: \", np_mat.size,sep='')\n",
    "\n",
    "# Matrix Shape returns the sixe of each axis in our np array.\n",
    "print(\"Shape of the matrix: \", np_mat.shape,sep='')\n",
    "\n",
    "# Data type contained in the array\n",
    "print(\"Data type of this matrix: \",np_mat.dtype,sep='')\n",
    "\n",
    "B_mat = [[1.1,2.2,3.3],[4,5,6],[7,8,9]]\n",
    "np_mat = np.array(B_mat)\n",
    "\n",
    "print(\"\\n\\nModified Matrix: \\n\", np_mat,\"\\n--------------\")\n",
    "print(\"Data type of this matrix: \",np_mat.dtype,sep='')\n",
    "\n",
    "C_np_mat = np.array([(1.1,2,3),(4,5,6)])\n",
    "print(\"\\n\\nWe can convert tuples to n-dimensional arrays also:\")\n",
    "print(\"By using C = np.array([(1.1,2,3),(4,5,6)])\")\n",
    "print(\"This a Matrix made from tuples, not lists\\n\",C_np_mat)"
   ]
  },
  {
   "cell_type": "markdown",
   "id": "fb6ee451-a88a-4eeb-8c22-6717f43bf6a9",
   "metadata": {},
   "source": [
    "## Programmatically generating arrays with ranges and spacing in NumPy\n",
    "### np.arange"
   ]
  },
  {
   "cell_type": "code",
   "execution_count": 33,
   "id": "52b1774c-479c-4bbb-bdaa-55f52d8f2b62",
   "metadata": {},
   "outputs": [
    {
     "name": "stdout",
     "output_type": "stream",
     "text": [
      "Creating an array with a series of numbers low to high: [ 0  1  2  3  4  5  6  7  8  9 10 11 12 13 14 15]\n"
     ]
    }
   ],
   "source": [
    "print(\"Creating an array with a series of numbers low to high:\", np.arange(0,16))"
   ]
  },
  {
   "cell_type": "code",
   "execution_count": 31,
   "id": "96d58c09-8a82-49ad-b593-bbb1751800dc",
   "metadata": {},
   "outputs": [
    {
     "name": "stdout",
     "output_type": "stream",
     "text": [
      "Array with with integers spaced by 2: [1 3 5 7 9]\n"
     ]
    }
   ],
   "source": [
    "print(\"Array with with integers spaced by 2:\", np.arange(1,11,2))"
   ]
  },
  {
   "cell_type": "code",
   "execution_count": 32,
   "id": "45384f0f-77fd-4dec-92e6-63dbbbf59cf6",
   "metadata": {},
   "outputs": [
    {
     "name": "stdout",
     "output_type": "stream",
     "text": [
      "Array with spacing by float: [50 45 40 35 30 25 20 15 10  5  0]\n"
     ]
    }
   ],
   "source": [
    "print(\"Array with spacing by float:\",np.arange(50,-1,-5))"
   ]
  },
  {
   "cell_type": "code",
   "execution_count": null,
   "id": "d95f5bc4-119a-4de3-864b-680dc4a38a6b",
   "metadata": {},
   "outputs": [],
   "source": []
  }
 ],
 "metadata": {
  "kernelspec": {
   "display_name": "Python 3 (ipykernel)",
   "language": "python",
   "name": "python3"
  },
  "language_info": {
   "codemirror_mode": {
    "name": "ipython",
    "version": 3
   },
   "file_extension": ".py",
   "mimetype": "text/x-python",
   "name": "python",
   "nbconvert_exporter": "python",
   "pygments_lexer": "ipython3",
   "version": "3.8.12"
  }
 },
 "nbformat": 4,
 "nbformat_minor": 5
}
