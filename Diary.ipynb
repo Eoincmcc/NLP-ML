{
 "cells": [
  {
   "cell_type": "markdown",
   "id": "775e2f74-90b4-45de-b16a-e75efc2096bd",
   "metadata": {
    "tags": []
   },
   "source": [
    "# Diary"
   ]
  },
  {
   "cell_type": "markdown",
   "id": "4ccb30f0-197e-4fac-8c21-6d1d9dd2116a",
   "metadata": {
    "jp-MarkdownHeadingCollapsed": true,
    "tags": []
   },
   "source": [
    "## Initial setup\n",
    "### 10/09/21\n",
    "1. Setup ML environment                       \n",
    "    1.1 Install pyenv and set-up local python environment    \n",
    "    1.2 Install & update Libraries & packages    \n",
    "        Libraries:\n",
    "            scipy                                      \n",
    "            numpy                                      \n",
    "            matplotlib                                 \n",
    "            pandas                                     \n",
    "            statsmodels                                \n",
    "            theano                                     \n",
    "            tensorflow                                 \n",
    "            keras\n",
    "    1.3 Make Quick versions Script\n",
    "2. Setup git env and repo\n",
    "    Commit Diary and version check\n",
    "            "
   ]
  },
  {
   "cell_type": "markdown",
   "id": "a997cac3-b2ad-4ff9-98b6-63c00f1b20ac",
   "metadata": {},
   "source": [
    "## Cheat Sheets and basics\n",
    "### 11/09/21 - Started\n",
    "\n",
    "1. Linear Algebra CheatSheet\n",
    "    Vectors\n",
    "    Matrices\n",
    " \n",
    "2. Basic ML projects\n",
    "    The IRIS Dataset"
   ]
  },
  {
   "cell_type": "markdown",
   "id": "a4d220d9-e826-4554-85b7-5a1814a363fa",
   "metadata": {},
   "source": [
    "## Model Analysis\n",
    "### 12/09/21 - Started\n",
    "\n",
    "#### CORA Analysis 12/09/21\n",
    "A look at the Multilingual model @https://github.com/AkariAsai/CORA.git\n",
    "Paper @https://arxiv.org/abs/2107.11976\n",
    "   \n",
    "Models & Data to be acquired before CORA is run (found in quick start)\n",
    "* tsv file with training data\n",
    "* mGEN model\n",
    "* mDPR model\n",
    "      \n",
    "14/09/21\n",
    "CORA's standard quickstart file is set up for linux\n",
    "* Re-write for mac run and evaluate    "
   ]
  },
  {
   "cell_type": "markdown",
   "id": "e3bae43a-cf29-40b2-a6a5-99e5cdb652b2",
   "metadata": {},
   "source": [
    "## Re-structure into Jupyter\n",
    "### 16/09/21:\n",
    "Re-organise into notebook style analysis of different models.\n",
    "I want to set up my work/study into a publishable set of jupyter notebooks\n",
    "I think this can be done using github pages but I'm getting a bit ahead of myself I'll stick with putting things in jp notebooks to start\n",
    " \n",
    "Task: Notebook-ify my stuff\n"
   ]
  },
  {
   "cell_type": "code",
   "execution_count": null,
   "id": "7eb70030-43ba-46c4-a5a3-1ae9fc708c71",
   "metadata": {
    "slideshow": {
     "slide_type": "notes"
    },
    "tags": []
   },
   "outputs": [],
   "source": []
  }
 ],
 "metadata": {
  "kernelspec": {
   "display_name": "nlp",
   "language": "python",
   "name": "nlp"
  },
  "language_info": {
   "codemirror_mode": {
    "name": "ipython",
    "version": 3
   },
   "file_extension": ".py",
   "mimetype": "text/x-python",
   "name": "python",
   "nbconvert_exporter": "python",
   "pygments_lexer": "ipython3",
   "version": "3.9.7"
  },
  "toc-autonumbering": false,
  "toc-showcode": true,
  "toc-showmarkdowntxt": false
 },
 "nbformat": 4,
 "nbformat_minor": 5
}
